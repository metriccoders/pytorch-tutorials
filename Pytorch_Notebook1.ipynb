{
  "nbformat": 4,
  "nbformat_minor": 0,
  "metadata": {
    "colab": {
      "provenance": [],
      "authorship_tag": "ABX9TyNzKzVu6iNpCvQI1iGm7SS8"
    },
    "kernelspec": {
      "name": "python3",
      "display_name": "Python 3"
    },
    "language_info": {
      "name": "python"
    }
  },
  "cells": [
    {
      "cell_type": "code",
      "execution_count": 15,
      "metadata": {
        "id": "w8uM5ljPXYWm"
      },
      "outputs": [],
      "source": [
        "import torch"
      ]
    },
    {
      "cell_type": "code",
      "source": [
        "import torch.nn as nn"
      ],
      "metadata": {
        "id": "NzlkNjUMsebe"
      },
      "execution_count": 16,
      "outputs": []
    },
    {
      "cell_type": "code",
      "source": [
        "# input size, hidden layer size, output size and batch size\n",
        "n_in, n_h, n_out, batch_size = 10, 5, 1, 10"
      ],
      "metadata": {
        "id": "RYmOH-BPsuoe"
      },
      "execution_count": 17,
      "outputs": []
    },
    {
      "cell_type": "code",
      "source": [
        "x = torch.randn(batch_size, n_in)\n",
        "y = torch.tensor([[2.0], [0.0], [0.0], \n",
        "[2.0], [2.0], [2.0], [2.0], [0.0], [2.0], [2.0]])"
      ],
      "metadata": {
        "id": "GsaTEodYs72m"
      },
      "execution_count": 18,
      "outputs": []
    },
    {
      "cell_type": "code",
      "source": [
        "model = nn.Sequential(nn.Linear(n_in, n_h), nn.ReLU(), nn.Linear(n_h, n_out), nn.Sigmoid() )"
      ],
      "metadata": {
        "id": "ojTiej7jtLmn"
      },
      "execution_count": 19,
      "outputs": []
    },
    {
      "cell_type": "code",
      "source": [
        "#loss function\n",
        "criterion = torch.nn.MSELoss()"
      ],
      "metadata": {
        "id": "rJIcqUQyxk-X"
      },
      "execution_count": 20,
      "outputs": []
    },
    {
      "cell_type": "code",
      "source": [
        "optimizer = torch.optim.SGD(model.parameters(), lr = 0.01)"
      ],
      "metadata": {
        "id": "caElLSvAxqsR"
      },
      "execution_count": 21,
      "outputs": []
    },
    {
      "cell_type": "code",
      "source": [
        "#gradient descent\n",
        "for epoch in range(100):\n",
        "  y_pred = model(x)\n",
        "  loss = criterion(y_pred, y)\n",
        "  print(\"epoch:\", epoch, \"loss:\", loss.item())\n",
        "  #zero gradients, backward pass, update weights\n",
        "  optimizer.zero_grad()\n",
        "  #backward pass\n",
        "  loss.backward()\n",
        "  #update\n",
        "  optimizer.step()"
      ],
      "metadata": {
        "colab": {
          "base_uri": "https://localhost:8080/"
        },
        "id": "e5kuHm1ixzrq",
        "outputId": "3db538dd-c375-4bb2-cff1-3b1ada8147cf"
      },
      "execution_count": 22,
      "outputs": [
        {
          "output_type": "stream",
          "name": "stdout",
          "text": [
            "epoch: 0 loss: 1.5107448101043701\n",
            "epoch: 1 loss: 1.5070948600769043\n",
            "epoch: 2 loss: 1.5034754276275635\n",
            "epoch: 3 loss: 1.4998867511749268\n",
            "epoch: 4 loss: 1.496328592300415\n",
            "epoch: 5 loss: 1.4928011894226074\n",
            "epoch: 6 loss: 1.4893039464950562\n",
            "epoch: 7 loss: 1.4858372211456299\n",
            "epoch: 8 loss: 1.48240065574646\n",
            "epoch: 9 loss: 1.4789944887161255\n",
            "epoch: 10 loss: 1.4756183624267578\n",
            "epoch: 11 loss: 1.4722719192504883\n",
            "epoch: 12 loss: 1.468955159187317\n",
            "epoch: 13 loss: 1.4656680822372437\n",
            "epoch: 14 loss: 1.4624104499816895\n",
            "epoch: 15 loss: 1.4591821432113647\n",
            "epoch: 16 loss: 1.4559829235076904\n",
            "epoch: 17 loss: 1.452812910079956\n",
            "epoch: 18 loss: 1.4496716260910034\n",
            "epoch: 19 loss: 1.446558952331543\n",
            "epoch: 20 loss: 1.4434747695922852\n",
            "epoch: 21 loss: 1.4404187202453613\n",
            "epoch: 22 loss: 1.437390923500061\n",
            "epoch: 23 loss: 1.4343907833099365\n",
            "epoch: 24 loss: 1.4314184188842773\n",
            "epoch: 25 loss: 1.428473711013794\n",
            "epoch: 26 loss: 1.425555944442749\n",
            "epoch: 27 loss: 1.4226653575897217\n",
            "epoch: 28 loss: 1.419801950454712\n",
            "epoch: 29 loss: 1.4169647693634033\n",
            "epoch: 30 loss: 1.414153814315796\n",
            "epoch: 31 loss: 1.4113695621490479\n",
            "epoch: 32 loss: 1.4086110591888428\n",
            "epoch: 33 loss: 1.4058780670166016\n",
            "epoch: 34 loss: 1.4031708240509033\n",
            "epoch: 35 loss: 1.4004886150360107\n",
            "epoch: 36 loss: 1.397852897644043\n",
            "epoch: 37 loss: 1.395256757736206\n",
            "epoch: 38 loss: 1.3926844596862793\n",
            "epoch: 39 loss: 1.3901360034942627\n",
            "epoch: 40 loss: 1.3876107931137085\n",
            "epoch: 41 loss: 1.3851088285446167\n",
            "epoch: 42 loss: 1.3826301097869873\n",
            "epoch: 43 loss: 1.3801740407943726\n",
            "epoch: 44 loss: 1.3777406215667725\n",
            "epoch: 45 loss: 1.3753294944763184\n",
            "epoch: 46 loss: 1.3729407787322998\n",
            "epoch: 47 loss: 1.37057363986969\n",
            "epoch: 48 loss: 1.368228554725647\n",
            "epoch: 49 loss: 1.3659106492996216\n",
            "epoch: 50 loss: 1.3636138439178467\n",
            "epoch: 51 loss: 1.3613380193710327\n",
            "epoch: 52 loss: 1.359082818031311\n",
            "epoch: 53 loss: 1.356847882270813\n",
            "epoch: 54 loss: 1.3546333312988281\n",
            "epoch: 55 loss: 1.3524388074874878\n",
            "epoch: 56 loss: 1.350264072418213\n",
            "epoch: 57 loss: 1.3481088876724243\n",
            "epoch: 58 loss: 1.3459731340408325\n",
            "epoch: 59 loss: 1.3438564538955688\n",
            "epoch: 60 loss: 1.3417589664459229\n",
            "epoch: 61 loss: 1.3396799564361572\n",
            "epoch: 62 loss: 1.3376195430755615\n",
            "epoch: 63 loss: 1.3355776071548462\n",
            "epoch: 64 loss: 1.333553433418274\n",
            "epoch: 65 loss: 1.331547498703003\n",
            "epoch: 66 loss: 1.329559326171875\n",
            "epoch: 67 loss: 1.327588438987732\n",
            "epoch: 68 loss: 1.3256274461746216\n",
            "epoch: 69 loss: 1.3236193656921387\n",
            "epoch: 70 loss: 1.3216272592544556\n",
            "epoch: 71 loss: 1.319650650024414\n",
            "epoch: 72 loss: 1.3176896572113037\n",
            "epoch: 73 loss: 1.3157436847686768\n",
            "epoch: 74 loss: 1.3138129711151123\n",
            "epoch: 75 loss: 1.3118971586227417\n",
            "epoch: 76 loss: 1.3099960088729858\n",
            "epoch: 77 loss: 1.3081095218658447\n",
            "epoch: 78 loss: 1.3062373399734497\n",
            "epoch: 79 loss: 1.3043792247772217\n",
            "epoch: 80 loss: 1.3025354146957397\n",
            "epoch: 81 loss: 1.3007053136825562\n",
            "epoch: 82 loss: 1.298888921737671\n",
            "epoch: 83 loss: 1.2970860004425049\n",
            "epoch: 84 loss: 1.295296549797058\n",
            "epoch: 85 loss: 1.293520212173462\n",
            "epoch: 86 loss: 1.2917571067810059\n",
            "epoch: 87 loss: 1.2899882793426514\n",
            "epoch: 88 loss: 1.2881076335906982\n",
            "epoch: 89 loss: 1.2862409353256226\n",
            "epoch: 90 loss: 1.2843883037567139\n",
            "epoch: 91 loss: 1.2825496196746826\n",
            "epoch: 92 loss: 1.2807247638702393\n",
            "epoch: 93 loss: 1.2789136171340942\n",
            "epoch: 94 loss: 1.2771155834197998\n",
            "epoch: 95 loss: 1.2753311395645142\n",
            "epoch: 96 loss: 1.2735599279403687\n",
            "epoch: 97 loss: 1.2718018293380737\n",
            "epoch: 98 loss: 1.2700546979904175\n",
            "epoch: 99 loss: 1.2682794332504272\n"
          ]
        }
      ]
    },
    {
      "cell_type": "code",
      "source": [],
      "metadata": {
        "id": "CpClz-ERyWti"
      },
      "execution_count": 22,
      "outputs": []
    }
  ]
}